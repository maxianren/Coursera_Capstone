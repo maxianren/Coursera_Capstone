{
 "cells": [
  {
   "cell_type": "markdown",
   "metadata": {},
   "source": [
    "## Data <a name=\"data\"></a>"
   ]
  },
  {
   "cell_type": "markdown",
   "metadata": {},
   "source": [
    "**Data source**<br>\n",
    "\n",
    "Collisions - Seattle GeoData - ArcGIS Online: https://data-seattlecitygis.opendata.arcgis.com/datasets/5b5c745e0f1f48e7a53acec63a0022ab_0\n",
    "<br>\n",
    "Attribute Information: https://www.seattle.gov/Documents/Departments/SDOT/GIS/Collisions_OD.pdf\n",
    "<br>\n",
    "GeoJService: https://gisdata.seattle.gov/server/rest/services/SDOT/SDOT_Collisions/MapServer/0/query?outFields=*&where=1%3D1\n",
    "<br>\n",
    "GeoJSON: https://opendata.arcgis.com/datasets/5b5c745e0f1f48e7a53acec63a0022ab_0.geojson\n",
    "\n",
    "The source includes all types of collisions data in Seattle city from 2014/01/01 to 2020/05/20, There are 35 attributes and total 212453 records, the target dependency is the severity of the collison:\n",
    "* 3—fatality (325)\n",
    "* 2b—serious injury (2950)\n",
    "* 2—injury (55964)\n",
    "* 1—prop damage (131672)\n",
    "* 0—unknown (20668)\n",
    "\n",
    "There are 194673 records in 4 categories excluding the missing information (0). To simply the issue, they were divided into 2 categories: **1-prop damage**(1) and **2-injury**(2,2b,3).\n",
    "<br>\n",
    "The Geo-information, Latitude and Longitude of collision, is integrated into the master source, here is the example of the data: https://s3.us.cloud-object-storage.appdomain.cloud/cf-courses-data/CognitiveClass/DP0701EN/version-2/Data-Collisions.csv"
   ]
  },
  {
   "cell_type": "markdown",
   "metadata": {},
   "source": [
    "**Data selection**\n",
    "\n",
    "184920 out of 194673 valid records are selected by ignoring \"Unmatched\" values in \"STATUS\" colunm and \"Not Enough Information, or Insufficient Location Information\" values in \"EXCEPTRSNDESC\" column. In addition, the 3 missing values in \"ADDRTYPE\" column are also deleted.  As a result, around 5% records cannot be used for the training and are removed from the datasets.\n",
    "\n",
    "**Feature selection**\n",
    "\n",
    "In the 37 features, there are 22 may contribute to accidental severity in certain way, and they have to be transformed into appropriate data format for further processing and exploratory. The table below summarized the treatment of different features\n",
    "\n",
    "| Format | Selected Features |\n",
    "| --- | --- |\n",
    "| Binary| INATTENTIONIND, UNDERINFL, PEDROWNOTGRNT, SPEEDING, SEGLANEKEY, CROSSWALKKEY, HITPARKEDCAR| \n",
    "| Float| X, Y| \n",
    "| Date| INCDATE| \n",
    "| Time| INCDTTM| \n",
    "| Encode Categorical| ADDRTYPE, COLLISIONTYPE, JUNCTIONTYPE, WEATHER, ROADCOND, LIGHTCOND, ST_COLCODE| \n",
    "| Int| PERSONCOUNT, PEDCOUNT, PEDCYLCOUNT, VEHCOUNT| \n"
   ]
  }
 ],
 "metadata": {
  "kernelspec": {
   "display_name": "Python 3",
   "language": "python",
   "name": "python3"
  },
  "language_info": {
   "codemirror_mode": {
    "name": "ipython",
    "version": 3
   },
   "file_extension": ".py",
   "mimetype": "text/x-python",
   "name": "python",
   "nbconvert_exporter": "python",
   "pygments_lexer": "ipython3",
   "version": "3.8.1"
  }
 },
 "nbformat": 4,
 "nbformat_minor": 4
}
